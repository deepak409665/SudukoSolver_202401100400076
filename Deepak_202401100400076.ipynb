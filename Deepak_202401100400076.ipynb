{
  "nbformat": 4,
  "nbformat_minor": 0,
  "metadata": {
    "colab": {
      "provenance": []
    },
    "kernelspec": {
      "name": "python3",
      "display_name": "Python 3"
    },
    "language_info": {
      "name": "python"
    }
  },
  "cells": [
    {
      "cell_type": "code",
      "execution_count": 7,
      "metadata": {
        "colab": {
          "base_uri": "https://localhost:8080/"
        },
        "id": "faUCMgnNSOT7",
        "outputId": "aeda27cb-d9c5-44e0-bcad-cc1bca7df84f"
      },
      "outputs": [
        {
          "output_type": "stream",
          "name": "stdout",
          "text": [
            "Original Sudoku Board:\n",
            "5 3 0 0 7 0 0 0 0\n",
            "6 0 0 1 9 5 0 0 0\n",
            "0 9 8 0 0 0 0 6 0\n",
            "8 0 0 0 6 0 0 0 3\n",
            "4 0 0 8 0 3 0 0 1\n",
            "7 0 0 0 2 0 0 0 6\n",
            "0 6 0 0 0 0 2 8 0\n",
            "0 0 0 4 1 9 0 0 5\n",
            "0 0 0 0 8 0 0 7 9\n",
            "\n",
            "Solved Sudoku Board:🥹❤️‍🩹\n",
            "5 3 4 6 7 8 9 1 2\n",
            "6 7 2 1 9 5 3 4 8\n",
            "1 9 8 3 4 2 5 6 7\n",
            "8 5 9 7 6 1 4 2 3\n",
            "4 2 6 8 5 3 7 9 1\n",
            "7 1 3 9 2 4 8 5 6\n",
            "9 6 1 5 3 7 2 8 4\n",
            "2 8 7 4 1 9 6 3 5\n",
            "3 4 5 2 8 6 1 7 9\n"
          ]
        }
      ],
      "source": [
        "def print_board(board):\n",
        "    # print suduko board\n",
        "    for row in board:\n",
        "        print(\" \".join(str(num) for num in row))\n",
        "\n",
        "def find_empty(board):\n",
        "    # Now it will finds the empty spaces\n",
        "    for i in range(9):\n",
        "        for j in range(9):\n",
        "        # We will denote empty spaces by 0\n",
        "            if board[i][j] == 0:\n",
        "                return i, j\n",
        "                # if empty space found it will return row and coulmn\n",
        "\n",
        "    return None\n",
        "     # if not found return NONE\n",
        "\n",
        "def is_valid(board, num, tup):\n",
        "  #  it will check the placing of num in tup\n",
        "    row, col = tup\n",
        "\n",
        "    # Check row and column\n",
        "    if num in board[row] or num in [board[i][col] for i in range(9)]:\n",
        "        return False\n",
        "\n",
        "    # Check 3x3 box\n",
        "    box_x, box_y = col // 3, row // 3\n",
        "    for i in range(box_y * 3, box_y * 3 + 3):\n",
        "        for j in range(box_x * 3, box_x * 3 + 3):\n",
        "            if board[i][j] == num:\n",
        "                return False\n",
        "\n",
        "    return True\n",
        "\n",
        "def solve_sudoku(board):\n",
        "    \"\"\"Solves the Sudoku using backtracking.\"\"\"\n",
        "    empty = find_empty(board)\n",
        "    if not empty:\n",
        "        return True  # Solved 😃 yey!\n",
        "\n",
        "    row, col = empty\n",
        "    for num in range(1, 10):  # try number in between 1-9\n",
        "        if is_valid(board, num, (row, col)):\n",
        "            board[row][col] = num  # Place the number\n",
        "\n",
        "            if solve_sudoku(board):\n",
        "                return True  #If solved return True\n",
        "\n",
        "            board[row][col] = 0  # If not solved then go back (recursion)---\n",
        "            # Repeat untill the board is solved\n",
        "\n",
        "    return False\n",
        "\n",
        "# suduko board\n",
        "sudoku_board = [\n",
        "    [5, 3, 0, 0, 7, 0, 0, 0, 0],\n",
        "    [6, 0, 0, 1, 9, 5, 0, 0, 0],\n",
        "    [0, 9, 8, 0, 0, 0, 0, 6, 0],\n",
        "    [8, 0, 0, 0, 6, 0, 0, 0, 3],\n",
        "    [4, 0, 0, 8, 0, 3, 0, 0, 1],\n",
        "    [7, 0, 0, 0, 2, 0, 0, 0, 6],\n",
        "    [0, 6, 0, 0, 0, 0, 2, 8, 0],\n",
        "    [0, 0, 0, 4, 1, 9, 0, 0, 5],\n",
        "    [0, 0, 0, 0, 8, 0, 0, 7, 9]\n",
        "]\n",
        "\n",
        "print(\"Original Sudoku Board is:\")\n",
        "print_board(sudoku_board)\n",
        "\n",
        "if solve_sudoku(sudoku_board):\n",
        "    print(\"\\nSolved Sudoku Board is :🥹❤️‍🩹\")\n",
        "    print_board(sudoku_board)\n",
        "else:\n",
        "    print(\"\\nNo solution exists.\")\n"
      ]
    }
  ]
}